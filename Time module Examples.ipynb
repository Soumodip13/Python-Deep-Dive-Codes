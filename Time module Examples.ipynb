{
 "cells": [
  {
   "cell_type": "code",
   "execution_count": 2,
   "metadata": {},
   "outputs": [
    {
     "name": "stdout",
     "output_type": "stream",
     "text": [
      "Seconds since epoch  1561406324.2796667\n",
      "Minutes since epoch  26023438.737994444\n",
      "Hours since epoch  433723.97896657407\n",
      "Days since epoch  18071.832456940585\n"
     ]
    }
   ],
   "source": [
    "import time\n",
    "seconds=time.time()\n",
    "print(\"Seconds since epoch \",seconds)\n",
    "print(\"Minutes since epoch \",seconds/60)\n",
    "print(\"Hours since epoch \",seconds/3600)\n",
    "print(\"Days since epoch \",seconds/(3600*24))"
   ]
  },
  {
   "cell_type": "code",
   "execution_count": 4,
   "metadata": {},
   "outputs": [
    {
     "name": "stdout",
     "output_type": "stream",
     "text": [
      "Local machine time is  Tue Jun 25 01:31:58 2019\n"
     ]
    }
   ],
   "source": [
    "seconds=time.time()\n",
    "local_time=time.ctime(seconds)\n",
    "print(\"Local machine time is \",local_time)"
   ]
  },
  {
   "cell_type": "code",
   "execution_count": 5,
   "metadata": {},
   "outputs": [
    {
     "name": "stdout",
     "output_type": "stream",
     "text": [
      "Local machine time is  Tue Jun 25 01:34:23 2019\n",
      "Now Local machine time is  Tue Jun 25 01:34:28 2019\n"
     ]
    }
   ],
   "source": [
    "seconds=time.time()\n",
    "local_time=time.ctime(seconds)\n",
    "print(\"Local machine time is \",local_time)\n",
    "time.sleep(5)\n",
    "seconds=time.time()\n",
    "local_time=time.ctime(seconds)\n",
    "print(\"Now Local machine time is \",local_time)"
   ]
  },
  {
   "cell_type": "code",
   "execution_count": 9,
   "metadata": {},
   "outputs": [
    {
     "name": "stdout",
     "output_type": "stream",
     "text": [
      "Time in this format looks like  06/25/19,01:42:00\n"
     ]
    }
   ],
   "source": [
    "local_time=time.localtime()\n",
    "time_string=time.strftime(\"%m/%d/%y,%H:%M:%S\",local_time)\n",
    "print(\"Time in this format looks like \",time_string)"
   ]
  }
 ],
 "metadata": {
  "kernelspec": {
   "display_name": "Python 3",
   "language": "python",
   "name": "python3"
  },
  "language_info": {
   "codemirror_mode": {
    "name": "ipython",
    "version": 3
   },
   "file_extension": ".py",
   "mimetype": "text/x-python",
   "name": "python",
   "nbconvert_exporter": "python",
   "pygments_lexer": "ipython3",
   "version": "3.7.0"
  }
 },
 "nbformat": 4,
 "nbformat_minor": 2
}
